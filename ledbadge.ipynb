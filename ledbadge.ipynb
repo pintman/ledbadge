{
 "cells": [
  {
   "cell_type": "markdown",
   "metadata": {},
   "source": [
    "# LedBade\n",
    "\n",
    "## Setup the ESP\n",
    "\n",
    "1. Download [firmware](https://micropython.org/download/#esp8266).\n",
    "2. [Install](http://docs.micropython.org/en/latest/esp8266/esp8266/tutorial/intro.html#deploying-the-firmware) firmware \n",
    "\n",
    "First, I downloaded the firmware to my Downloads-folder."
   ]
  },
  {
   "cell_type": "code",
   "execution_count": 11,
   "metadata": {},
   "outputs": [
    {
     "name": "stdout",
     "output_type": "stream",
     "text": [
      "/Users/bakera/Downloads/esp8266-20180511-v1.9.4.bin\r\n"
     ]
    }
   ],
   "source": [
    "!ls ~/Downloads/esp8266*"
   ]
  },
  {
   "cell_type": "markdown",
   "metadata": {},
   "source": [
    "We can checkout for usb devices connected to our linux or macos machine."
   ]
  },
  {
   "cell_type": "code",
   "execution_count": 6,
   "metadata": {},
   "outputs": [
    {
     "name": "stdout",
     "output_type": "stream",
     "text": [
      "\u001b[34m\u001b[43m/dev/cu.wchusbserial1420\u001b[m\u001b[m  \u001b[34m\u001b[43m/dev/tty.wchusbserial1420\u001b[m\u001b[m\r\n"
     ]
    }
   ],
   "source": [
    "!ls /dev/*usb*"
   ]
  },
  {
   "cell_type": "markdown",
   "metadata": {},
   "source": [
    "Installing the firmware consist of two steps. First the flash will be erased."
   ]
  },
  {
   "cell_type": "code",
   "execution_count": 4,
   "metadata": {},
   "outputs": [
    {
     "name": "stdout",
     "output_type": "stream",
     "text": [
      "esptool.py v2.5.0\n",
      "Serial port /dev/tty.wchusbserial1420\n",
      "Connecting....\n",
      "Detecting chip type... ESP8266\n",
      "Chip is ESP8266EX\n",
      "Features: WiFi\n",
      "MAC: bc:dd:c2:08:ad:7a\n",
      "Uploading stub...\n",
      "Running stub...\n",
      "Stub running...\n",
      "Erasing flash (this may take a while)...\n",
      "Chip erase completed successfully in 2.6s\n",
      "Hard resetting via RTS pin...\n"
     ]
    }
   ],
   "source": [
    "!esptool.py --port /dev/tty.wchusbserial1420 erase_flash"
   ]
  },
  {
   "cell_type": "markdown",
   "metadata": {},
   "source": [
    "Next, the new firmware will be installed."
   ]
  },
  {
   "cell_type": "code",
   "execution_count": 7,
   "metadata": {},
   "outputs": [
    {
     "name": "stdout",
     "output_type": "stream",
     "text": [
      "esptool.py v2.5.0\n",
      "Serial port /dev/tty.wchusbserial1420\n",
      "Connecting....\n",
      "Detecting chip type... ESP8266\n",
      "Chip is ESP8266EX\n",
      "Features: WiFi\n",
      "MAC: bc:dd:c2:08:ad:7a\n",
      "Uploading stub...\n",
      "Running stub...\n",
      "Stub running...\n",
      "Configuring flash size...\n",
      "Auto-detected Flash size: 4MB\n",
      "Flash params set to 0x0240\n",
      "Compressed 604872 bytes to 394893...\n",
      "Wrote 604872 bytes (394893 compressed) at 0x00000000 in 35.3 seconds (effective 137.2 kbit/s)...\n",
      "Hash of data verified.\n",
      "\n",
      "Leaving...\n",
      "Hard resetting via RTS pin...\n"
     ]
    }
   ],
   "source": [
    "!esptool.py --port /dev/tty.wchusbserial1420 --baud 115200 write_flash --flash_size=detect -fm dio 0 ~/Downloads/esp8266*"
   ]
  },
  {
   "cell_type": "markdown",
   "metadata": {},
   "source": [
    "## Install development tools\n",
    "\n",
    "For tools run the tools from ``requirements.txt``. First lets look into it."
   ]
  },
  {
   "cell_type": "code",
   "execution_count": 7,
   "metadata": {},
   "outputs": [
    {
     "name": "stdout",
     "output_type": "stream",
     "text": [
      "esptool\r\n",
      "adafruit-ampy\r\n"
     ]
    }
   ],
   "source": [
    "cat requirements.txt"
   ]
  },
  {
   "cell_type": "markdown",
   "metadata": {},
   "source": [
    "Next we use pip to install these."
   ]
  },
  {
   "cell_type": "code",
   "execution_count": null,
   "metadata": {},
   "outputs": [],
   "source": [
    "!pip3 install -r requirements.txt"
   ]
  },
  {
   "cell_type": "markdown",
   "metadata": {},
   "source": [
    "Let's what have a look what we have installed."
   ]
  },
  {
   "cell_type": "code",
   "execution_count": 29,
   "metadata": {},
   "outputs": [
    {
     "name": "stdout",
     "output_type": "stream",
     "text": [
      "Usage: ampy [OPTIONS] COMMAND [ARGS]...\n",
      "\n",
      "  ampy - Adafruit MicroPython Tool\n",
      "\n",
      "  Ampy is a tool to control MicroPython boards over a serial connection.\n",
      "  Using ampy you can manipulate files on the board's internal filesystem and\n",
      "  even run scripts.\n",
      "\n",
      "Options:\n",
      "  -p, --port PORT    Name of serial port for connected board.  Can optionally\n",
      "                     specify with AMPY_PORT environment variable.  [required]\n",
      "  -b, --baud BAUD    Baud rate for the serial connection (default 115200).\n",
      "                     Can optionally specify with AMPY_BAUD environment\n",
      "                     variable.\n",
      "  -d, --delay DELAY  Delay in seconds before entering RAW MODE (default 0).\n",
      "                     Can optionally specify with AMPY_DELAY environment\n",
      "                     variable.\n",
      "  --version          Show the version and exit.\n",
      "  --help             Show this message and exit.\n",
      "\n",
      "Commands:\n",
      "  get    Retrieve a file from the board.\n",
      "  ls     List contents of a directory on the board.\n",
      "  mkdir  Create a directory on the board.\n",
      "  put    Put a file or folder and its contents on the...\n",
      "  reset  Perform soft reset/reboot of the board.\n",
      "  rm     Remove a file from the board.\n",
      "  rmdir  Forcefully remove a folder and all its...\n",
      "  run    Run a script and print its output.\n"
     ]
    }
   ],
   "source": [
    "!ampy"
   ]
  },
  {
   "cell_type": "code",
   "execution_count": 31,
   "metadata": {},
   "outputs": [
    {
     "name": "stdout",
     "output_type": "stream",
     "text": [
      "esptool.py v2.5.0\r\n",
      "usage: esptool [-h] [--chip {auto,esp8266,esp32}] [--port PORT] [--baud BAUD]\r\n",
      "               [--before {default_reset,no_reset,no_reset_no_sync}]\r\n",
      "               [--after {hard_reset,soft_reset,no_reset}] [--no-stub]\r\n",
      "               [--trace] [--override-vddsdio [{1.8V,1.9V,OFF}]]\r\n",
      "               {load_ram,dump_mem,read_mem,write_mem,write_flash,run,image_info,make_image,elf2image,read_mac,chip_id,flash_id,read_flash_status,write_flash_status,read_flash,verify_flash,erase_flash,erase_region,version}\r\n",
      "               ...\r\n",
      "\r\n",
      "esptool.py v2.5.0 - ESP8266 ROM Bootloader Utility\r\n",
      "\r\n",
      "positional arguments:\r\n",
      "  {load_ram,dump_mem,read_mem,write_mem,write_flash,run,image_info,make_image,elf2image,read_mac,chip_id,flash_id,read_flash_status,write_flash_status,read_flash,verify_flash,erase_flash,erase_region,version}\r\n",
      "                        Run esptool {command} -h for additional help\r\n",
      "    load_ram            Download an image to RAM and execute\r\n",
      "    dump_mem            Dump arbitrary memory to disk\r\n",
      "    read_mem            Read arbitrary memory location\r\n",
      "    write_mem           Read-modify-write to arbitrary memory location\r\n",
      "    write_flash         Write a binary blob to flash\r\n",
      "    run                 Run application code in flash\r\n",
      "    image_info          Dump headers from an application image\r\n",
      "    make_image          Create an application image from binary files\r\n",
      "    elf2image           Create an application image from ELF file\r\n",
      "    read_mac            Read MAC address from OTP ROM\r\n",
      "    chip_id             Read Chip ID from OTP ROM\r\n",
      "    flash_id            Read SPI flash manufacturer and device ID\r\n",
      "    read_flash_status   Read SPI flash status register\r\n",
      "    write_flash_status  Write SPI flash status register\r\n",
      "    read_flash          Read SPI flash content\r\n",
      "    verify_flash        Verify a binary blob against flash\r\n",
      "    erase_flash         Perform Chip Erase on SPI flash\r\n",
      "    erase_region        Erase a region of the flash\r\n",
      "    version             Print esptool version\r\n",
      "\r\n",
      "optional arguments:\r\n",
      "  -h, --help            show this help message and exit\r\n",
      "  --chip {auto,esp8266,esp32}, -c {auto,esp8266,esp32}\r\n",
      "                        Target chip type\r\n",
      "  --port PORT, -p PORT  Serial port device\r\n",
      "  --baud BAUD, -b BAUD  Serial port baud rate used when flashing/reading\r\n",
      "  --before {default_reset,no_reset,no_reset_no_sync}\r\n",
      "                        What to do before connecting to the chip\r\n",
      "  --after {hard_reset,soft_reset,no_reset}, -a {hard_reset,soft_reset,no_reset}\r\n",
      "                        What to do after esptool.py is finished\r\n",
      "  --no-stub             Disable launching the flasher stub, only talk to ROM\r\n",
      "                        bootloader. Some features will not be available.\r\n",
      "  --trace, -t           Enable trace-level output of esptool.py interactions.\r\n",
      "  --override-vddsdio [{1.8V,1.9V,OFF}]\r\n",
      "                        Override ESP32 VDDSDIO internal voltage regulator (use\r\n",
      "                        with care)\r\n"
     ]
    }
   ],
   "source": [
    "!esptool.py"
   ]
  },
  {
   "cell_type": "markdown",
   "metadata": {},
   "source": [
    "## fix for ampy\n",
    "\n",
    "In order to run ampy on the *Wemos D1 mini* you must specify the\n",
    "parameter ``--delay 0.5`` on the commandline.\n",
    "[Source](https://github.com/adafruit/ampy/issues/19).\n",
    "\n",
    "    $ ampy -d 0.5 -p ... ls"
   ]
  },
  {
   "cell_type": "markdown",
   "metadata": {},
   "source": [
    "## Look for files\n",
    "\n",
    "Now let's check for files on the device."
   ]
  },
  {
   "cell_type": "code",
   "execution_count": 8,
   "metadata": {},
   "outputs": [
    {
     "name": "stdout",
     "output_type": "stream",
     "text": [
      "boot.py\r\n"
     ]
    }
   ],
   "source": [
    "!ampy -p /dev/tty.wchusbserial1420 -d 0.5 ls"
   ]
  },
  {
   "cell_type": "markdown",
   "metadata": {},
   "source": [
    "## (optional) Install development environment\n",
    "\n",
    "For testing and runnning in a local micropython environment install \n",
    "the upython packages with\n",
    "\n",
    "\t$ micropython -m upip install -r urequirements.txt"
   ]
  },
  {
   "cell_type": "markdown",
   "metadata": {},
   "source": [
    "## Connect to the device\n",
    "\n",
    "You can connect to the device with ``screen`` on Linux/MacOS\n",
    "\n",
    "    $ screen /dev/tty... 115200\n",
    "\n",
    "Screen can be exited with ``CTRL-A K``.\n",
    "\n",
    "On Windows you can use [Putty](https://putty.org)."
   ]
  },
  {
   "cell_type": "markdown",
   "metadata": {},
   "source": [
    "## Deploy files\n",
    "\n",
    "We will now upload all files (this may take some time)."
   ]
  },
  {
   "cell_type": "code",
   "execution_count": 9,
   "metadata": {},
   "outputs": [
    {
     "name": "stdout",
     "output_type": "stream",
     "text": [
      "uploading src/boot.py\n",
      "uploading src/ledmatrix.py\n",
      "uploading src/main.py\n",
      "uploading src/text.py\n",
      "uploading src/tm1640.py\n",
      "uploading src/tm1640_test.py\n"
     ]
    }
   ],
   "source": [
    "%%bash\n",
    "\n",
    "for f in src/*py; do\n",
    "  echo uploading $f\n",
    "  ampy -p /dev/tty.wchusbserial1420 -d 0.5 put $f\n",
    "done"
   ]
  }
 ],
 "metadata": {
  "kernelspec": {
   "display_name": "Python 3",
   "language": "python",
   "name": "python3"
  },
  "language_info": {
   "codemirror_mode": {
    "name": "ipython",
    "version": 3
   },
   "file_extension": ".py",
   "mimetype": "text/x-python",
   "name": "python",
   "nbconvert_exporter": "python",
   "pygments_lexer": "ipython3",
   "version": "3.7.0"
  }
 },
 "nbformat": 4,
 "nbformat_minor": 2
}
